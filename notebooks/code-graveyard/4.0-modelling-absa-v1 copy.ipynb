{
 "cells": [
  {
   "cell_type": "markdown",
   "metadata": {},
   "source": [
    "# African Airlines Sentiment Analysis (2015-Present)\n",
    "**Modeling & (Aspect Based) Sentiment Analysis V1**"
   ]
  },
  {
   "cell_type": "markdown",
   "metadata": {},
   "source": [
    "**Goal:** Conduct a basic aspect-based sentiment analysis on airlines with the [aspect-based-sentiment-analysis (ABSA) package](https://github.com/ScalaConsultants/Aspect-Based-Sentiment-Analysis)\n",
    "\n",
    "The (airline) aspects in focus are:\n",
    "- Seat\n",
    "- Cabin staff service\n",
    "- Food\n",
    "- Inflight entertainment\n",
    "- Ground service\n",
    "- WiFi\n",
    "\n",
    "---\n",
    "\n",
    "**Skip to the code if you are not interested in a brief discussion of the eventual ABSA process. This can also easily be inferred from the code**\n",
    "\n",
    "---\n",
    "\n",
    "#### ABSA process\n",
    "To conduct the ABSA, aspect classes (enumerated above) are manually indicated as well as terms that are likely linked to these e.g. food: meal, food.\n",
    "\n",
    "\n",
    "These aspect terms are then searched for in the review text and if they exist, the sentiment (positive, negative, or neutral) of the word is inferred from the context of the sentence.\n",
    "\n",
    "\n",
    "#### Model Evaluation\n",
    "To evaluate the efficacy/accuracy of the ABSA, we utilized one of the preprocessed datasets. In this dataset, the airline aspects (enumerated above) ratings (from 1-5) were mapped to categorical sentiment groups thus:\n",
    "\n",
    "$$ 1-2: Negative \\ \\ | \\ \\ \\ 3: Neutral \\ \\ \\ | \\ \\ \\  4-5: Positive$$\n",
    "\n",
    "\n",
    "Subsequently, aspect predictions where the model found no aspect term were replaced with NaNs. For example, if the mapping of ratings to sentiment groups in a particular review reported food as being 'Positive' and the model did not find food to be discussed in this same review, then the sentiment ('Positive') for that review is replaced with a NaN. This is done so that the model's predictions are all that are evaluated and not cases where the model does not predict. There are a few reasons/assumptions behind this action:\n",
    "\n",
    "1. Users reviews do not always cover what they rated as these are two different sections on the review website (i.e. the review is not necessarily exhaustive). Hence, there is no way for the model to deduce what the reviewer thought of an aspect if it was not actually expressed in the review (hence why the rated sentiment is replaced with a NaN since that sentiment was not expressed in the review)\n",
    "2. In some sense, we are putting too much faith in the model. It is possible that the reviewer did express sentiment on the aspect but the model did not catch this. In this case, we still go with the model and believe that the service aspect (e.g. food, cabin crew, etc.) was not discussed in the review text. *This point is especially important since the aspect terms were specified manually and certain terms could definitely have been missed out*."
   ]
  },
  {
   "cell_type": "code",
   "execution_count": 26,
   "metadata": {},
   "outputs": [],
   "source": [
    "import scipy.stats as sts"
   ]
  },
  {
   "cell_type": "code",
   "execution_count": 33,
   "metadata": {},
   "outputs": [],
   "source": [
    "import scipy.stats as sts"
   ]
  },
  {
   "cell_type": "code",
   "execution_count": null,
   "metadata": {},
   "outputs": [],
   "source": []
  },
  {
   "cell_type": "code",
   "execution_count": 38,
   "metadata": {},
   "outputs": [
    {
     "name": "stdout",
     "output_type": "stream",
     "text": [
      "Found existing installation: scipy 1.7.1\n",
      "Uninstalling scipy-1.7.1:\n",
      "  Would remove:\n",
      "    /Users/koredeakande/opt/anaconda3/lib/python3.7/site-packages/scipy-1.7.1.dist-info/*\n",
      "    /Users/koredeakande/opt/anaconda3/lib/python3.7/site-packages/scipy/*\n",
      "  Would not remove (might be manually added):\n",
      "    /Users/koredeakande/opt/anaconda3/lib/python3.7/site-packages/scipy/.DS_Store\n",
      "Proceed (Y/n)? ^C\n",
      "\u001b[31mERROR: Operation cancelled by user\u001b[0m\n"
     ]
    }
   ],
   "source": [
    "!pip uninstall scipy"
   ]
  },
  {
   "cell_type": "code",
   "execution_count": 39,
   "metadata": {},
   "outputs": [
    {
     "ename": "NameError",
     "evalue": "name 'Y' is not defined",
     "output_type": "error",
     "traceback": [
      "\u001b[0;31m---------------------------------------------------------------------------\u001b[0m",
      "\u001b[0;31mNameError\u001b[0m                                 Traceback (most recent call last)",
      "\u001b[0;32m<ipython-input-39-c881daf1af41>\u001b[0m in \u001b[0;36m<module>\u001b[0;34m\u001b[0m\n\u001b[0;32m----> 1\u001b[0;31m \u001b[0mY\u001b[0m\u001b[0;34m\u001b[0m\u001b[0;34m\u001b[0m\u001b[0m\n\u001b[0m",
      "\u001b[0;31mNameError\u001b[0m: name 'Y' is not defined"
     ]
    }
   ],
   "source": [
    "Y"
   ]
  },
  {
   "cell_type": "markdown",
   "metadata": {},
   "source": [
    "### 1. Library Importation"
   ]
  },
  {
   "cell_type": "code",
   "execution_count": 2,
   "metadata": {},
   "outputs": [],
   "source": [
    "import pandas as pd\n",
    "import numpy as np\n",
    "import matplotlib.pyplot as plt\n",
    "import aspect_based_sentiment_analysis as absa"
   ]
  },
  {
   "cell_type": "markdown",
   "metadata": {},
   "source": [
    "### 2. Loading the data"
   ]
  },
  {
   "cell_type": "code",
   "execution_count": 3,
   "metadata": {},
   "outputs": [],
   "source": [
    "#Dataframe with review text cleaned and encoded sentiment values\n",
    "airlines_df = pd.read_csv('../data/processed/airlines_processed.csv',index_col=0)\n",
    "\n",
    "#Convert encoded rating sentiment values to int\n",
    "airlines_df.iloc[:,6:13] = airlines_df.iloc[:,6:13]"
   ]
  },
  {
   "cell_type": "code",
   "execution_count": 4,
   "metadata": {},
   "outputs": [
    {
     "data": {
      "text/html": [
       "<div>\n",
       "<style scoped>\n",
       "    .dataframe tbody tr th:only-of-type {\n",
       "        vertical-align: middle;\n",
       "    }\n",
       "\n",
       "    .dataframe tbody tr th {\n",
       "        vertical-align: top;\n",
       "    }\n",
       "\n",
       "    .dataframe thead th {\n",
       "        text-align: right;\n",
       "    }\n",
       "</style>\n",
       "<table border=\"1\" class=\"dataframe\">\n",
       "  <thead>\n",
       "    <tr style=\"text-align: right;\">\n",
       "      <th></th>\n",
       "      <th>Subject</th>\n",
       "      <th>date_published</th>\n",
       "      <th>review_text</th>\n",
       "      <th>type_of_traveller</th>\n",
       "      <th>seat_type</th>\n",
       "      <th>date_flown</th>\n",
       "      <th>seat_comfort</th>\n",
       "      <th>cabin_staff_service</th>\n",
       "      <th>food_&amp;_beverages</th>\n",
       "      <th>inflight_entertainment</th>\n",
       "      <th>ground_service</th>\n",
       "      <th>wifi_&amp;_connectivity</th>\n",
       "      <th>value_for_money</th>\n",
       "      <th>recommended</th>\n",
       "    </tr>\n",
       "  </thead>\n",
       "  <tbody>\n",
       "    <tr>\n",
       "      <th>0</th>\n",
       "      <td>ethiopian-airlines</td>\n",
       "      <td>2021-01-31 00:08:00</td>\n",
       "      <td>ive flown ethiopian airlines couple times gene...</td>\n",
       "      <td>Business</td>\n",
       "      <td>Economy Class</td>\n",
       "      <td>August 2021</td>\n",
       "      <td>Negative</td>\n",
       "      <td>Negative</td>\n",
       "      <td>Negative</td>\n",
       "      <td>Negative</td>\n",
       "      <td>Negative</td>\n",
       "      <td>Negative</td>\n",
       "      <td>Negative</td>\n",
       "      <td>0</td>\n",
       "    </tr>\n",
       "    <tr>\n",
       "      <th>1</th>\n",
       "      <td>ethiopian-airlines</td>\n",
       "      <td>2021-01-06 00:08:00</td>\n",
       "      <td>fantastic journey flew q turbo prop khartoum a...</td>\n",
       "      <td>Solo Leisure</td>\n",
       "      <td>Economy Class</td>\n",
       "      <td>July 2021</td>\n",
       "      <td>Positive</td>\n",
       "      <td>Positive</td>\n",
       "      <td>Positive</td>\n",
       "      <td>Positive</td>\n",
       "      <td>Positive</td>\n",
       "      <td>NaN</td>\n",
       "      <td>Positive</td>\n",
       "      <td>1</td>\n",
       "    </tr>\n",
       "    <tr>\n",
       "      <th>2</th>\n",
       "      <td>ethiopian-airlines</td>\n",
       "      <td>2021-01-29 00:07:00</td>\n",
       "      <td>children stuck transit ethiopia ethiopian airl...</td>\n",
       "      <td>Family Leisure</td>\n",
       "      <td>Economy Class</td>\n",
       "      <td>July 2021</td>\n",
       "      <td>Negative</td>\n",
       "      <td>Negative</td>\n",
       "      <td>Negative</td>\n",
       "      <td>Negative</td>\n",
       "      <td>Negative</td>\n",
       "      <td>Negative</td>\n",
       "      <td>Negative</td>\n",
       "      <td>0</td>\n",
       "    </tr>\n",
       "  </tbody>\n",
       "</table>\n",
       "</div>"
      ],
      "text/plain": [
       "              Subject       date_published  \\\n",
       "0  ethiopian-airlines  2021-01-31 00:08:00   \n",
       "1  ethiopian-airlines  2021-01-06 00:08:00   \n",
       "2  ethiopian-airlines  2021-01-29 00:07:00   \n",
       "\n",
       "                                         review_text type_of_traveller  \\\n",
       "0  ive flown ethiopian airlines couple times gene...          Business   \n",
       "1  fantastic journey flew q turbo prop khartoum a...      Solo Leisure   \n",
       "2  children stuck transit ethiopia ethiopian airl...    Family Leisure   \n",
       "\n",
       "       seat_type   date_flown seat_comfort cabin_staff_service  \\\n",
       "0  Economy Class  August 2021     Negative            Negative   \n",
       "1  Economy Class    July 2021     Positive            Positive   \n",
       "2  Economy Class    July 2021     Negative            Negative   \n",
       "\n",
       "  food_&_beverages inflight_entertainment ground_service wifi_&_connectivity  \\\n",
       "0         Negative               Negative       Negative            Negative   \n",
       "1         Positive               Positive       Positive                 NaN   \n",
       "2         Negative               Negative       Negative            Negative   \n",
       "\n",
       "  value_for_money  recommended  \n",
       "0        Negative            0  \n",
       "1        Positive            1  \n",
       "2        Negative            0  "
      ]
     },
     "execution_count": 4,
     "metadata": {},
     "output_type": "execute_result"
    }
   ],
   "source": [
    "airlines_df.head(3)"
   ]
  },
  {
   "cell_type": "markdown",
   "metadata": {},
   "source": [
    "### 3. Quick ABSA"
   ]
  },
  {
   "cell_type": "code",
   "execution_count": 5,
   "metadata": {},
   "outputs": [
    {
     "data": {
      "application/vnd.jupyter.widget-view+json": {
       "model_id": "1548ba4bb6774230ad2e87df6093b577",
       "version_major": 2,
       "version_minor": 0
      },
      "text/plain": [
       "Downloading:   0%|          | 0.00/1.08k [00:00<?, ?B/s]"
      ]
     },
     "metadata": {},
     "output_type": "display_data"
    },
    {
     "data": {
      "application/vnd.jupyter.widget-view+json": {
       "model_id": "121a28275ff149f0bea2aea67f0cc3c6",
       "version_major": 2,
       "version_minor": 0
      },
      "text/plain": [
       "Downloading:   0%|          | 0.00/438M [00:00<?, ?B/s]"
      ]
     },
     "metadata": {},
     "output_type": "display_data"
    },
    {
     "data": {
      "application/vnd.jupyter.widget-view+json": {
       "model_id": "1b0fb2f34531434aa93dd1d12b8a3f8d",
       "version_major": 2,
       "version_minor": 0
      },
      "text/plain": [
       "Downloading:   0%|          | 0.00/232k [00:00<?, ?B/s]"
      ]
     },
     "metadata": {},
     "output_type": "display_data"
    },
    {
     "data": {
      "application/vnd.jupyter.widget-view+json": {
       "model_id": "c28ef499319343b58a2c93741e64bba3",
       "version_major": 2,
       "version_minor": 0
      },
      "text/plain": [
       "Downloading:   0%|          | 0.00/112 [00:00<?, ?B/s]"
      ]
     },
     "metadata": {},
     "output_type": "display_data"
    },
    {
     "data": {
      "application/vnd.jupyter.widget-view+json": {
       "model_id": "429d3226282b444eaffca62461cd8eb8",
       "version_major": 2,
       "version_minor": 0
      },
      "text/plain": [
       "Downloading:   0%|          | 0.00/112 [00:00<?, ?B/s]"
      ]
     },
     "metadata": {},
     "output_type": "display_data"
    }
   ],
   "source": [
    "#Load the basic configuration of the ABSA package\n",
    "nlp = absa.load()"
   ]
  },
  {
   "cell_type": "code",
   "execution_count": 6,
   "metadata": {},
   "outputs": [],
   "source": [
    "#Note down the possible aspect classes – and their relevant (aspect) terms\n",
    "aspect_classes = {'seat':['seat'], \n",
    "                  'cabin_staff_service': ['crew', 'service', 'staff', 'attendant'], \n",
    "                  'food': ['food','meal','breakfast','lunch','dinner'],\n",
    "                  'inflight_entertainment': ['entertainment','ife','movies','shows', 'music', 'films'], \n",
    "                  'ground_service': ['ground service', 'ground  staff'], 'wifi': ['wifi', 'internet']}"
   ]
  },
  {
   "cell_type": "code",
   "execution_count": 7,
   "metadata": {},
   "outputs": [],
   "source": [
    "def reviews_absa(df,sample_num = None):\n",
    "    \n",
    "    \"\"\"\n",
    "    Function to run ABSA on a random sample from a review text dataframe. \n",
    "    \n",
    "    To run ABSA specifically, aspect classes and their relevant terms are specified above and aspect terms\n",
    "    are searched for in the preprocessed review texts. If they exist, the ABSA is carried out by\n",
    "    looking at the aspect terms in the context of the review text\n",
    "    \n",
    "    Inputs:\n",
    "        - df (pandas Dataframe): Dataframe of reviews\n",
    "        - sample_num (int): The number of reviews to randomly select from the dataframe\n",
    "        \n",
    "    Outputs:\n",
    "        - rand_idx (list): A list containing the randomly selected indices from the dataframe\n",
    "        - sentiment_df (pd Dataframe): Dataframe containing the predicted aspect sentiments for the revies\n",
    "        - review_sentiment_sample (pd Dataframe): Dataframe containing the actual user-reported sentiments\n",
    "    \n",
    "    \"\"\"\n",
    "    \n",
    "    #Dataframe to store the eventual sentiment for different aspects\n",
    "    sentiment_df = pd.DataFrame()\n",
    "    \n",
    "    #Generate random number which will serve as selections for review texts\n",
    "    #Running on all the reviews takes a long time\n",
    "    rand_idx = np.random.randint(0,len(df),sample_num)\n",
    "\n",
    "    #Iterate through all the aspects (e.g. seat, ground staff service, etc.)\n",
    "    for aspect_class in aspect_classes.keys():\n",
    "\n",
    "        #print('aspect class', aspect_class,'\\n')\n",
    "\n",
    "        #List to store the aspect sentiment for each review for a given aspect\n",
    "        review_aspect_sentiment = []\n",
    "\n",
    "        #Iterate through all the reviews\n",
    "        for review in df.review_text.iloc[rand_idx]:\n",
    "\n",
    "            #print('review:',review,'\\n')\n",
    "\n",
    "            #List to store the avg sentiment for all relevant aspect terms\n",
    "            term_sentiments = []\n",
    "\n",
    "            #Iterate through all the aspect terms for an aspect\n",
    "            for aspect_term in aspect_classes[aspect_class]:\n",
    "\n",
    "                #print('aspect_term:',aspect_term,'\\n')\n",
    "\n",
    "                #If the term is in the review\n",
    "                if aspect_term in review:\n",
    "\n",
    "                    try:\n",
    "                        #Try to calculate the sentiment for the aspect term\n",
    "                        sent = nlp(review,aspects = [aspect_term])\n",
    "\n",
    "                        #Append the sentiment score to the sentiment scores list\n",
    "                        term_sentiments.append(np.array(sent.subtasks[aspect_term].examples[0].scores))\n",
    "\n",
    "                    except:\n",
    "                        \n",
    "                        #If any error or exception arises, just pass\n",
    "                        pass\n",
    "\n",
    "\n",
    "                #If the term is not in the review, pass\n",
    "                else:\n",
    "                    pass\n",
    "\n",
    "            #If there were multiple aspect terms, find the average sentiment values across all terms\n",
    "            #Note: This is reported in the form [neutral,negative,positive]\n",
    "            if len(term_sentiments) > 1:\n",
    "\n",
    "                avg_sentiments = np.array(term_sentiments).mean(axis=0)\n",
    "\n",
    "            #If just one, no need to find the average\n",
    "            elif len(term_sentiments) == 1:\n",
    "\n",
    "                avg_sentiments = np.array(term_sentiments)\n",
    "\n",
    "            #If len == 0, no review with the aspect terms was found\n",
    "            else:\n",
    "                avg_sentiments = None\n",
    "\n",
    "            #If avg_sentiment is None, append np.nan indicating no sentiment for the aspect\n",
    "            if avg_sentiments is None:\n",
    "\n",
    "                review_aspect_sentiment.append(np.nan)\n",
    "            \n",
    "            #If a sentiment score was determined,\n",
    "            else:\n",
    "\n",
    "                #Get the sentiment category (neutral,negative,positive) with the largest probability\n",
    "                max_idx = np.argmax(avg_sentiments)\n",
    "\n",
    "                if max_idx == 2:\n",
    "\n",
    "                    review_aspect_sentiment.append(\"Positive\")\n",
    "\n",
    "                elif max_idx == 1:\n",
    "\n",
    "                    review_aspect_sentiment.append(\"Negative\")\n",
    "\n",
    "                else:\n",
    "\n",
    "                    review_aspect_sentiment.append(\"Neutral\")\n",
    "\n",
    "\n",
    "            #print(review_aspect_sentiment, '\\n\\n')\n",
    "\n",
    "        sentiment_df[aspect_class] = review_aspect_sentiment\n",
    "    \n",
    "    #Return the following:\n",
    "        #1. The indices of the randomly selected reviews\n",
    "        #2. The data frame containing the sentiment predictions from the absa model\n",
    "        #3. The true dataframe with the user reported ratings converted to sentiment values\n",
    "    return rand_idx, sentiment_df, df.iloc[rand_idx,6:12]\n"
   ]
  },
  {
   "cell_type": "code",
   "execution_count": 8,
   "metadata": {},
   "outputs": [],
   "source": [
    "def replace_nan_with_str(df,true_df):\n",
    "    \n",
    "    \"\"\"\n",
    "    Function to replace NaNs with string NaNs to allow for comparison of the values\n",
    "    \"\"\"\n",
    "\n",
    "    #Iterate through all the values in the sentiment dataframe\n",
    "    for row in range(len(df)):\n",
    "\n",
    "        for col in range(len(df.columns)):\n",
    "\n",
    "            #If there was no sentiment prediction from the model (i.e. if np.nan)\n",
    "            if df.iloc[row,col] not in ['Positive','Negative','Neutral']:\n",
    "\n",
    "                #Replace the nan prediction with a string (since np.nans cannot be compared with each other)\n",
    "                df.iloc[row,col] = str(df.iloc[row,col])\n",
    "\n",
    "                #Replace the review sentiment with a string nan - allowing us compare all available predictions \n",
    "                #to actual reported values\n",
    "                true_df.iloc[row,col] = str(np.nan)\n",
    "              \n",
    "    \n",
    "    return df,true_df"
   ]
  },
  {
   "cell_type": "code",
   "execution_count": 9,
   "metadata": {},
   "outputs": [],
   "source": [
    "def absa_evaluation(true_df,num_reviews):\n",
    "    \n",
    "    \"\"\"\n",
    "    Main function to run the aspect-based sentiment analysis. The function does the following:\n",
    "    1. Calls reviews_absa function predict aspect sentiment on a randomly selected sample of reviews\n",
    "    2. Calls replace_nan_with_str function to change np.nan values to strings (allowing for easy comparison)\n",
    "       Note: True review sentiments were the model did not predict anything (i.e. NaN) are also converted to\n",
    "             string nans. This is so that we only consider the accuracy of the model's predictions\n",
    "    3. Computes accuracy score for model predictions\n",
    "    \"\"\"\n",
    "    \n",
    "    #Run aspect based sentiment analysis on num_reviews randomly selected reviews\n",
    "    _ , sentiment_df, reviews_ratings = reviews_absa(true_df,num_reviews)\n",
    "    \n",
    "    #Reprocess in preparation for prediction comparison\n",
    "    #Here we reformat so only aspects that the model detected and predicted are evaluated\n",
    "    sentiment_df, reviews_ratings = replace_nan_with_str(sentiment_df, reviews_ratings)\n",
    "    \n",
    "    #Calculate the number of predictions\n",
    "    num_preds = np.array([1 for pred in sentiment_df.values.flatten() if pred != 'nan']).sum()\n",
    "    \n",
    "    #Compare predictions to user reported sentiment values \n",
    "    comparison_vals = (sentiment_df.values == reviews_ratings.values).flatten()\n",
    "\n",
    "    #Compute and return the number of predictions and the accuracy\n",
    "    return num_preds, (comparison_vals.sum()/len(comparison_vals))\n",
    "    "
   ]
  },
  {
   "cell_type": "code",
   "execution_count": 46,
   "metadata": {},
   "outputs": [
    {
     "name": "stdout",
     "output_type": "stream",
     "text": [
      "Total number of predictions: 532\n",
      "Average accuracy: 0.8626666666666667\n"
     ]
    }
   ],
   "source": [
    "#List to store accuracy values\n",
    "accuracy_values = []\n",
    "\n",
    "#Counter to track total number of (effective) model predictions\n",
    "num_predictions = 0\n",
    "\n",
    "#Repeat absa evaluation for 5 runs \n",
    "for _ in range(5):\n",
    "    \n",
    "    num_pred, accuracy = absa_evaluation(airlines_df,50)\n",
    "    \n",
    "    num_predictions += num_pred\n",
    "    \n",
    "    accuracy_values.append(accuracy)\n",
    "    \n",
    "print(f\"Total number of predictions: {num_predictions}\")\n",
    "print(f\"Average accuracy: {np.array(accuracy_values).mean()}\")\n"
   ]
  },
  {
   "cell_type": "code",
   "execution_count": 10,
   "metadata": {},
   "outputs": [],
   "source": [
    "def absa_dataset(true_df,num_reviews):\n",
    "    \n",
    "    #Run aspect based sentiment analysis on num_reviews randomly selected reviews\n",
    "    _ , sentiment_df, reviews_ratings = reviews_absa(true_df,num_reviews)\n",
    "    \n",
    "    #Reprocess in preparation for prediction comparison\n",
    "    #Here we reformat so only aspects that the model detected and predicted are evaluated\n",
    "    sentiment_df, reviews_ratings = replace_nan_with_str(sentiment_df, reviews_ratings)\n",
    "    \n",
    "    return sentiment_df, reviews_rating\n",
    "\n",
    "\n",
    "def compute_accuracy(sentiment_df, num_reviews):\n",
    "    \n",
    "    #Calculate the number of predictions\n",
    "    num_preds = np.array([1 for pred in sentiment_df.values.flatten() if pred != 'nan']).sum()\n",
    "    \n",
    "    #Compare predictions to user reported sentiment values \n",
    "    comparison_vals = (sentiment_df.values == reviews_ratings.values).flatten()\n",
    "\n",
    "    #Compute and return the accuracy\n",
    "    return comparison_vals.sum()/len(comparison_vals)"
   ]
  },
  {
   "cell_type": "code",
   "execution_count": 18,
   "metadata": {},
   "outputs": [
    {
     "ename": "ImportError",
     "evalue": "cannot import name 'bootstrap' from 'scipy.stats' (/Users/koredeakande/opt/anaconda3/lib/python3.7/site-packages/scipy/stats/__init__.py)",
     "output_type": "error",
     "traceback": [
      "\u001b[0;31m---------------------------------------------------------------------------\u001b[0m",
      "\u001b[0;31mImportError\u001b[0m                               Traceback (most recent call last)",
      "\u001b[0;32m<ipython-input-18-0e8947cafb46>\u001b[0m in \u001b[0;36m<module>\u001b[0;34m\u001b[0m\n\u001b[0;32m----> 1\u001b[0;31m \u001b[0;32mfrom\u001b[0m \u001b[0mscipy\u001b[0m\u001b[0;34m.\u001b[0m\u001b[0mstats\u001b[0m \u001b[0;32mimport\u001b[0m \u001b[0mbootstrap\u001b[0m\u001b[0;34m\u001b[0m\u001b[0;34m\u001b[0m\u001b[0m\n\u001b[0m",
      "\u001b[0;31mImportError\u001b[0m: cannot import name 'bootstrap' from 'scipy.stats' (/Users/koredeakande/opt/anaconda3/lib/python3.7/site-packages/scipy/stats/__init__.py)"
     ]
    }
   ],
   "source": [
    "from scipy.stats import bootstrap"
   ]
  },
  {
   "cell_type": "code",
   "execution_count": 15,
   "metadata": {},
   "outputs": [],
   "source": [
    "scipy.stats."
   ]
  },
  {
   "cell_type": "code",
   "execution_count": null,
   "metadata": {},
   "outputs": [],
   "source": [
    "scipy."
   ]
  },
  {
   "cell_type": "code",
   "execution_count": null,
   "metadata": {},
   "outputs": [],
   "source": [
    "res = bootstrap(data, np.std, confidence_level=0.9, random_state=rng)"
   ]
  },
  {
   "cell_type": "markdown",
   "metadata": {},
   "source": [
    "### 4. How well does the current model detect referenced aspects in reviews?\n",
    "Unfortunately, this is currently evaluated manually"
   ]
  },
  {
   "cell_type": "code",
   "execution_count": 49,
   "metadata": {},
   "outputs": [
    {
     "name": "stdout",
     "output_type": "stream",
     "text": [
      "Text 1 :\n",
      "worst online customer service i have ever seen. it took more than days to get back to me regarding a change on flights, when it finally replied it gave me the available date however refused to get the payment through email, as we are dealing and sent me to the branch in a city far from where i was staying to do the payment. when i got there as soon as i could possibly could and the flight was simply booked out. i lost money and time to find out i would have to stay until my flight was originally booked. \n",
      "\n",
      "\n",
      " Model aspect predictions\n",
      "-  seat :  nan\n",
      "-  cabin_staff_service :  Negative\n",
      "-  food :  nan\n",
      "-  inflight_entertainment :  nan\n",
      "-  ground_service :  nan\n",
      "-  wifi :  nan\n",
      "\n",
      "\n",
      "Text 2 :\n",
      "i recently took four comair (british airways) flights in zimbabwe and south africa. while the aircraft appeared a little tired, i was impressed with the business class cabin service, catering was good for the series of short flights undertaken and seemed on a par with short-haul qantas 737-800 international service. if requesting a seat during the booking process, i recommend selecting 1 d e or f. while there are three seats on this side of the aircraft rarely is the middle seat used. these seats are exit row and can, depending on the aircraft configuration, have up to almost a metre of legroom. all business seats behind row 1 appear only to have legroom akin to economy class (which begs the question why pay so much extra for no more legroom). i fly business class regularly and would happily fly comair again when next in africa, and ba when travelling in europe. \n",
      "\n",
      "\n",
      " Model aspect predictions\n",
      "-  seat :  Neutral\n",
      "-  cabin_staff_service :  Positive\n",
      "-  food :  nan\n",
      "-  inflight_entertainment :  nan\n",
      "-  ground_service :  nan\n",
      "-  wifi :  nan\n",
      "\n",
      "\n",
      "Text 3 :\n",
      "my family flew from toronto to luxor (via cairo) in business class. i was a bit concerned prior to departure after reading some of the other comments from travellers on this site. i must say i was completely satisfied with the service on the four legs of our flight. the planes are a bit old but the service was good. the staff were excellent (especially in luxor). everyone went the extra mile to make our flights as comfortable as possible. this is not a 5 star airline but we knew that before we departed. i think egyptair is a solid airline and worth the cost of the tickets. \n",
      "\n",
      "\n",
      " Model aspect predictions\n",
      "-  seat :  nan\n",
      "-  cabin_staff_service :  Positive\n",
      "-  food :  nan\n",
      "-  inflight_entertainment :  nan\n",
      "-  ground_service :  nan\n",
      "-  wifi :  nan\n",
      "\n",
      "\n",
      "Text 4 :\n",
      "egyptair is probably the weakest link among the star alliance network. during this trip aside from experiencing a very unfriendly attitude from the flight crew including the burnt hot dog omelet breakfast which they never replaced, they also managed to lose my bags upon arrival. bags do get lost and this is common to all airlines. however what shocks me is that egypt air agrees to compensate me for the loss of my bags but never actually pays (it has been six months now). they don't even answer my e-mails requesting an explanation on the situation and their call center tells me to e-mail the baggage services. this is an endless pernicious loop of irresponsibility. egyptair is unworthy of star alliance. \n",
      "\n",
      "\n",
      " Model aspect predictions\n",
      "-  seat :  nan\n",
      "-  cabin_staff_service :  Negative\n",
      "-  food :  Negative\n",
      "-  inflight_entertainment :  nan\n",
      "-  ground_service :  nan\n",
      "-  wifi :  nan\n",
      "\n",
      "\n",
      "Text 5 :\n",
      "i feel obliged to write a review about the business class facility on egyptair. i am totally disappointed with the type of service provided especially when i paid a lot of money to travel business class! my comments - 1) the boarding facility at abu dhabi airport was total confusion! as a business class traveller i had to go to the boarding counter and ask to be boarded. 2) the inflight service provided from abu dhabi to cairo was less than acceptable especially the food provided and no follow ups. every time i asked for something i was looked at as if i had annoyed the crew! 3) the inflight service provided from cairo to abu dhabi was no different from the above. i had to ask 3 times for a blanket and pillow! and the food!! well.... i would get better food at mcdonalds! no coffee or tea offered, just a bottle of water and an option between orange juice or water! i am totally disappointed with egyptair and would strongly recommend anyone wanting to travel to cairo to fly with another carrier especially when you pay extra for business class service and you don't get it. \n",
      "\n",
      "\n",
      " Model aspect predictions\n",
      "-  seat :  nan\n",
      "-  cabin_staff_service :  Negative\n",
      "-  food :  Positive\n",
      "-  inflight_entertainment :  nan\n",
      "-  ground_service :  nan\n",
      "-  wifi :  nan\n",
      "\n",
      "\n"
     ]
    }
   ],
   "source": [
    "#Load the original data so we can see the original review texts (with no text processing)\n",
    "original_df = pd.read_csv('../data/interim/airlines_categorical.csv',index_col=0)\n",
    "\n",
    "#Run the ABSA to get the aspects and the model prediction for the deduced aspects\n",
    "rand_idx, sentiment_df, reviews_ratings = reviews_absa(airlines_df,5)\n",
    "\n",
    "#Print the text, the aspects and the models prediction for the aspects\n",
    "for idx,value in enumerate(rand_idx):\n",
    "    \n",
    "    print('Text', idx+1,':')\n",
    "    print(original_df.iloc[value,2], '\\n')\n",
    "    \n",
    "    print('\\n','Model aspect predictions')\n",
    "    for attr, pred in zip(sentiment_df.iloc[idx].index,sentiment_df.iloc[idx].values):\n",
    "        print('- ',attr,': ',pred)\n",
    "        \n",
    "    print('\\n') "
   ]
  },
  {
   "cell_type": "markdown",
   "metadata": {},
   "source": [
    "#### Notes from the reviews above (flaws):\n",
    "- In Text 1, customer service is mistaken for cabin service by the model.\n",
    "- For Text 2, since 'catering' was not specified under food, the model believes no discussion on food was present in the review.\n",
    "- For Text 5, we see the model likely ascribed 'Positive' due to the proximity to the word better"
   ]
  },
  {
   "cell_type": "markdown",
   "metadata": {},
   "source": [
    "### Breaking down and visualizing the model's classifications"
   ]
  },
  {
   "cell_type": "code",
   "execution_count": 131,
   "metadata": {},
   "outputs": [],
   "source": [
    "from sklearn.metrics import confusion_matrix, ConfusionMatrixDisplay"
   ]
  },
  {
   "cell_type": "code",
   "execution_count": 132,
   "metadata": {},
   "outputs": [
    {
     "name": "stdout",
     "output_type": "stream",
     "text": [
      "0.8593333333333333\n"
     ]
    }
   ],
   "source": [
    "#Run aspect based sentiment analysis on num_reviews randomly selected reviews\n",
    "_ , sentiment_df, reviews_ratings = reviews_absa(airlines_df,250)\n",
    "\n",
    "#Reprocess in preparation for prediction comparison\n",
    "#Here we reformat so only aspects that the model detected and predicted are evaluated\n",
    "sentiment_df, reviews_ratings = replace_nan_with_str(sentiment_df, reviews_ratings)\n",
    "\n",
    "#Calculate the number of predictions\n",
    "num_preds = np.array([1 for pred in sentiment_df.values.flatten() if pred != 'nan']).sum()\n",
    "\n",
    "#Compare predictions to user reported sentiment values \n",
    "comparison_vals = (sentiment_df.values == reviews_ratings.values).flatten()\n",
    "\n",
    "#Compute and print the accuracy\n",
    "print(comparison_vals.sum()/len(comparison_vals))\n"
   ]
  },
  {
   "cell_type": "code",
   "execution_count": 84,
   "metadata": {},
   "outputs": [],
   "source": [
    "#Replace missing true ratings with 'None' to allow for confusion matrix plotting\n",
    "reviews_replaced = reviews_ratings.replace(np.nan, 'None')"
   ]
  },
  {
   "cell_type": "code",
   "execution_count": 85,
   "metadata": {},
   "outputs": [],
   "source": [
    "attr_preds = np.delete(sentiment_df.values.flatten(),\n",
    "                       np.where(sentiment_df.values.flatten() == 'nan'))\n",
    "true_ratings = np.delete(reviews_replaced.values.flatten(),\n",
    "                         np.where(reviews_replaced.values.flatten() == 'nan'))"
   ]
  },
  {
   "cell_type": "code",
   "execution_count": 86,
   "metadata": {},
   "outputs": [],
   "source": [
    "cm = confusion_matrix(true_ratings, attr_preds)\n",
    "disp = ConfusionMatrixDisplay(confusion_matrix=cm, display_labels = ['Negative', 'Neutral', 'None', 'Positive'])"
   ]
  },
  {
   "cell_type": "code",
   "execution_count": 87,
   "metadata": {},
   "outputs": [
    {
     "data": {
      "image/png": "[encoded data removed]",
      "text/plain": [
       "<Figure size 432x288 with 2 Axes>"
      ]
     },
     "metadata": {
      "needs_background": "light"
     },
     "output_type": "display_data"
    }
   ],
   "source": [
    "disp.plot()\n",
    "plt.show()"
   ]
  },
  {
   "cell_type": "markdown",
   "metadata": {},
   "source": [
    "Does quite poorly predicting Neutral sentiment. Also seems to detect sentiment in a number of reviews where the user gave no rating"
   ]
  },
  {
   "cell_type": "code",
   "execution_count": 89,
   "metadata": {},
   "outputs": [
    {
     "data": {
      "text/html": [
       "<div>\n",
       "<style scoped>\n",
       "    .dataframe tbody tr th:only-of-type {\n",
       "        vertical-align: middle;\n",
       "    }\n",
       "\n",
       "    .dataframe tbody tr th {\n",
       "        vertical-align: top;\n",
       "    }\n",
       "\n",
       "    .dataframe thead th {\n",
       "        text-align: right;\n",
       "    }\n",
       "</style>\n",
       "<table border=\"1\" class=\"dataframe\">\n",
       "  <thead>\n",
       "    <tr style=\"text-align: right;\">\n",
       "      <th></th>\n",
       "      <th>seat</th>\n",
       "      <th>cabin_staff_service</th>\n",
       "      <th>food</th>\n",
       "      <th>inflight_entertainment</th>\n",
       "      <th>ground_service</th>\n",
       "      <th>wifi</th>\n",
       "    </tr>\n",
       "  </thead>\n",
       "  <tbody>\n",
       "    <tr>\n",
       "      <th>0</th>\n",
       "      <td>nan</td>\n",
       "      <td>Positive</td>\n",
       "      <td>Neutral</td>\n",
       "      <td>nan</td>\n",
       "      <td>nan</td>\n",
       "      <td>nan</td>\n",
       "    </tr>\n",
       "    <tr>\n",
       "      <th>1</th>\n",
       "      <td>nan</td>\n",
       "      <td>nan</td>\n",
       "      <td>nan</td>\n",
       "      <td>nan</td>\n",
       "      <td>nan</td>\n",
       "      <td>nan</td>\n",
       "    </tr>\n",
       "    <tr>\n",
       "      <th>2</th>\n",
       "      <td>nan</td>\n",
       "      <td>nan</td>\n",
       "      <td>nan</td>\n",
       "      <td>nan</td>\n",
       "      <td>nan</td>\n",
       "      <td>nan</td>\n",
       "    </tr>\n",
       "    <tr>\n",
       "      <th>3</th>\n",
       "      <td>Negative</td>\n",
       "      <td>nan</td>\n",
       "      <td>nan</td>\n",
       "      <td>nan</td>\n",
       "      <td>nan</td>\n",
       "      <td>nan</td>\n",
       "    </tr>\n",
       "    <tr>\n",
       "      <th>4</th>\n",
       "      <td>Negative</td>\n",
       "      <td>Positive</td>\n",
       "      <td>Positive</td>\n",
       "      <td>Positive</td>\n",
       "      <td>nan</td>\n",
       "      <td>Positive</td>\n",
       "    </tr>\n",
       "    <tr>\n",
       "      <th>...</th>\n",
       "      <td>...</td>\n",
       "      <td>...</td>\n",
       "      <td>...</td>\n",
       "      <td>...</td>\n",
       "      <td>...</td>\n",
       "      <td>...</td>\n",
       "    </tr>\n",
       "    <tr>\n",
       "      <th>245</th>\n",
       "      <td>Positive</td>\n",
       "      <td>Positive</td>\n",
       "      <td>Negative</td>\n",
       "      <td>Positive</td>\n",
       "      <td>nan</td>\n",
       "      <td>Negative</td>\n",
       "    </tr>\n",
       "    <tr>\n",
       "      <th>246</th>\n",
       "      <td>nan</td>\n",
       "      <td>Negative</td>\n",
       "      <td>nan</td>\n",
       "      <td>nan</td>\n",
       "      <td>nan</td>\n",
       "      <td>nan</td>\n",
       "    </tr>\n",
       "    <tr>\n",
       "      <th>247</th>\n",
       "      <td>nan</td>\n",
       "      <td>Positive</td>\n",
       "      <td>Negative</td>\n",
       "      <td>Negative</td>\n",
       "      <td>nan</td>\n",
       "      <td>nan</td>\n",
       "    </tr>\n",
       "    <tr>\n",
       "      <th>248</th>\n",
       "      <td>nan</td>\n",
       "      <td>Negative</td>\n",
       "      <td>nan</td>\n",
       "      <td>nan</td>\n",
       "      <td>nan</td>\n",
       "      <td>nan</td>\n",
       "    </tr>\n",
       "    <tr>\n",
       "      <th>249</th>\n",
       "      <td>Positive</td>\n",
       "      <td>Negative</td>\n",
       "      <td>Positive</td>\n",
       "      <td>nan</td>\n",
       "      <td>nan</td>\n",
       "      <td>nan</td>\n",
       "    </tr>\n",
       "  </tbody>\n",
       "</table>\n",
       "<p>250 rows × 6 columns</p>\n",
       "</div>"
      ],
      "text/plain": [
       "         seat cabin_staff_service      food inflight_entertainment  \\\n",
       "0         nan            Positive   Neutral                    nan   \n",
       "1         nan                 nan       nan                    nan   \n",
       "2         nan                 nan       nan                    nan   \n",
       "3    Negative                 nan       nan                    nan   \n",
       "4    Negative            Positive  Positive               Positive   \n",
       "..        ...                 ...       ...                    ...   \n",
       "245  Positive            Positive  Negative               Positive   \n",
       "246       nan            Negative       nan                    nan   \n",
       "247       nan            Positive  Negative               Negative   \n",
       "248       nan            Negative       nan                    nan   \n",
       "249  Positive            Negative  Positive                    nan   \n",
       "\n",
       "    ground_service      wifi  \n",
       "0              nan       nan  \n",
       "1              nan       nan  \n",
       "2              nan       nan  \n",
       "3              nan       nan  \n",
       "4              nan  Positive  \n",
       "..             ...       ...  \n",
       "245            nan  Negative  \n",
       "246            nan       nan  \n",
       "247            nan       nan  \n",
       "248            nan       nan  \n",
       "249            nan       nan  \n",
       "\n",
       "[250 rows x 6 columns]"
      ]
     },
     "execution_count": 89,
     "metadata": {},
     "output_type": "execute_result"
    }
   ],
   "source": [
    "sentiment_df"
   ]
  },
  {
   "cell_type": "markdown",
   "metadata": {},
   "source": [
    "#### a. Looking at Neutral predictions"
   ]
  },
  {
   "cell_type": "code",
   "execution_count": 111,
   "metadata": {},
   "outputs": [
    {
     "name": "stdout",
     "output_type": "stream",
     "text": [
      "[0]\n",
      "\n",
      "\n",
      "[0]\n",
      "\n",
      "\n"
     ]
    }
   ],
   "source": [
    "#List to store the rows with Neutral predictions\n",
    "idx_with_neutral = []\n",
    "\n",
    "#Iter\n",
    "for index,row in sentiment_df.iterrows():\n",
    "    \n",
    "    for var in row:\n",
    "        \n",
    "        if var == 'Neutral':\n",
    "            \n",
    "            idx_with_neutral.append(index)\n",
    "            break\n",
    "        "
   ]
  },
  {
   "cell_type": "code",
   "execution_count": null,
   "metadata": {},
   "outputs": [],
   "source": [
    "\n",
    "\n",
    "#Print the text, the aspects and the models prediction for the aspects\n",
    "for idx,value in enumerate(_):\n",
    "    \n",
    "    print('Text', idx+1,':')\n",
    "    print(original_df.iloc[value,2], '\\n')\n",
    "    \n",
    "    print('\\n','Model aspect predictions')\n",
    "    for attr, pred in zip(sentiment_df.iloc[idx].index,sentiment_df.iloc[idx].values):\n",
    "        print('- ',attr,': ',pred)\n",
    "        \n",
    "    print('\\n') "
   ]
  },
  {
   "cell_type": "code",
   "execution_count": 34,
   "metadata": {},
   "outputs": [
    {
     "data": {
      "text/plain": [
       "array([ 764,  613,  574, 1166,  380,  634,  911, 1081,  994,  730])"
      ]
     },
     "execution_count": 34,
     "metadata": {},
     "output_type": "execute_result"
    }
   ],
   "source": [
    "_[:10]"
   ]
  },
  {
   "cell_type": "markdown",
   "metadata": {},
   "source": [
    "## 5. Model Discussion\n",
    "Reviewing the efficacy of the model above for the review aspect prediction"
   ]
  },
  {
   "cell_type": "code",
   "execution_count": 114,
   "metadata": {},
   "outputs": [],
   "source": [
    "senti = nlp(airlines_df.review_text[0],aspects = ['food'])"
   ]
  },
  {
   "cell_type": "code",
   "execution_count": 119,
   "metadata": {},
   "outputs": [
    {
     "data": {
      "text/plain": [
       "CompletedTask(text='ive flown ethiopian airlines couple times generally satisfied best better many recently flew add iad horrible flight  flight attendant serving water cabin nice since confiscated water bottles boarding seated back cabin ran water never came back cares  food beverage service absolutely slowest ive ever seen life  transatlantic flights would work hard go slower two flight attendants serving  two standing around absolutely nothing never see lazier group flight attendants life  food worse bad  inedible beef nothing grizzle fat  wouldnt serve dog plan organization service  none terrible flight among worst flights ive cabin crew lazy beyond words avoid airline possible', aspects=['food'], subtasks=OrderedDict([('food', CompletedSubTask(text='ive flown ethiopian airlines couple times generally satisfied best better many recently flew add iad horrible flight  flight attendant serving water cabin nice since confiscated water bottles boarding seated back cabin ran water never came back cares  food beverage service absolutely slowest ive ever seen life  transatlantic flights would work hard go slower two flight attendants serving  two standing around absolutely nothing never see lazier group flight attendants life  food worse bad  inedible beef nothing grizzle fat  wouldnt serve dog plan organization service  none terrible flight among worst flights ive cabin crew lazy beyond words avoid airline possible', aspect='food', examples=[PredictedExample(text='ive flown ethiopian airlines couple times generally satisfied best better many recently flew add iad horrible flight  flight attendant serving water cabin nice since confiscated water bottles boarding seated back cabin ran water never came back cares  food beverage service absolutely slowest ive ever seen life  transatlantic flights would work hard go slower two flight attendants serving  two standing around absolutely nothing never see lazier group flight attendants life  food worse bad  inedible beef nothing grizzle fat  wouldnt serve dog plan organization service  none terrible flight among worst flights ive cabin crew lazy beyond words avoid airline possible', aspect='food', sentiment=<Sentiment.negative: 1>, text_tokens=['ive', 'flown', 'ethiopian', 'airlines', 'couple', 'times', 'generally', 'satisfied', 'best', 'better', 'many', 'recently', 'flew', 'add', 'iad', 'horrible', 'flight', 'flight', 'attendant', 'serving', 'water', 'cabin', 'nice', 'since', 'confiscated', 'water', 'bottles', 'boarding', 'seated', 'back', 'cabin', 'ran', 'water', 'never', 'came', 'back', 'cares', 'food', 'beverage', 'service', 'absolutely', 'slowest', 'ive', 'ever', 'seen', 'life', 'transatlantic', 'flights', 'would', 'work', 'hard', 'go', 'slower', 'two', 'flight', 'attendants', 'serving', 'two', 'standing', 'around', 'absolutely', 'nothing', 'never', 'see', 'lazier', 'group', 'flight', 'attendants', 'life', 'food', 'worse', 'bad', 'inedible', 'beef', 'nothing', 'grizzle', 'fat', 'wouldnt', 'serve', 'dog', 'plan', 'organization', 'service', 'none', 'terrible', 'flight', 'among', 'worst', 'flights', 'ive', 'cabin', 'crew', 'lazy', 'beyond', 'words', 'avoid', 'airline', 'possible'], text_subtokens=['iv', '##e', 'flown', 'ethiopian', 'airlines', 'couple', 'times', 'generally', 'satisfied', 'best', 'better', 'many', 'recently', 'flew', 'add', 'ia', '##d', 'horrible', 'flight', 'flight', 'attendant', 'serving', 'water', 'cabin', 'nice', 'since', 'confiscated', 'water', 'bottles', 'boarding', 'seated', 'back', 'cabin', 'ran', 'water', 'never', 'came', 'back', 'cares', 'food', 'beverage', 'service', 'absolutely', 'slow', '##est', 'iv', '##e', 'ever', 'seen', 'life', 'transatlantic', 'flights', 'would', 'work', 'hard', 'go', 'slower', 'two', 'flight', 'attendants', 'serving', 'two', 'standing', 'around', 'absolutely', 'nothing', 'never', 'see', 'la', '##zier', 'group', 'flight', 'attendants', 'life', 'food', 'worse', 'bad', 'in', '##ed', '##ible', 'beef', 'nothing', 'gr', '##iz', '##zle', 'fat', 'wouldn', '##t', 'serve', 'dog', 'plan', 'organization', 'service', 'none', 'terrible', 'flight', 'among', 'worst', 'flights', 'iv', '##e', 'cabin', 'crew', 'lazy', 'beyond', 'words', 'avoid', 'airline', 'possible'], aspect_tokens=['food'], aspect_subtokens=['food'], tokens=['[CLS]', 'ive', 'flown', 'ethiopian', 'airlines', 'couple', 'times', 'generally', 'satisfied', 'best', 'better', 'many', 'recently', 'flew', 'add', 'iad', 'horrible', 'flight', 'flight', 'attendant', 'serving', 'water', 'cabin', 'nice', 'since', 'confiscated', 'water', 'bottles', 'boarding', 'seated', 'back', 'cabin', 'ran', 'water', 'never', 'came', 'back', 'cares', 'food', 'beverage', 'service', 'absolutely', 'slowest', 'ive', 'ever', 'seen', 'life', 'transatlantic', 'flights', 'would', 'work', 'hard', 'go', 'slower', 'two', 'flight', 'attendants', 'serving', 'two', 'standing', 'around', 'absolutely', 'nothing', 'never', 'see', 'lazier', 'group', 'flight', 'attendants', 'life', 'food', 'worse', 'bad', 'inedible', 'beef', 'nothing', 'grizzle', 'fat', 'wouldnt', 'serve', 'dog', 'plan', 'organization', 'service', 'none', 'terrible', 'flight', 'among', 'worst', 'flights', 'ive', 'cabin', 'crew', 'lazy', 'beyond', 'words', 'avoid', 'airline', 'possible', '[SEP]', 'food', '[SEP]'], subtokens=['[CLS]', 'iv', '##e', 'flown', 'ethiopian', 'airlines', 'couple', 'times', 'generally', 'satisfied', 'best', 'better', 'many', 'recently', 'flew', 'add', 'ia', '##d', 'horrible', 'flight', 'flight', 'attendant', 'serving', 'water', 'cabin', 'nice', 'since', 'confiscated', 'water', 'bottles', 'boarding', 'seated', 'back', 'cabin', 'ran', 'water', 'never', 'came', 'back', 'cares', 'food', 'beverage', 'service', 'absolutely', 'slow', '##est', 'iv', '##e', 'ever', 'seen', 'life', 'transatlantic', 'flights', 'would', 'work', 'hard', 'go', 'slower', 'two', 'flight', 'attendants', 'serving', 'two', 'standing', 'around', 'absolutely', 'nothing', 'never', 'see', 'la', '##zier', 'group', 'flight', 'attendants', 'life', 'food', 'worse', 'bad', 'in', '##ed', '##ible', 'beef', 'nothing', 'gr', '##iz', '##zle', 'fat', 'wouldn', '##t', 'serve', 'dog', 'plan', 'organization', 'service', 'none', 'terrible', 'flight', 'among', 'worst', 'flights', 'iv', '##e', 'cabin', 'crew', 'lazy', 'beyond', 'words', 'avoid', 'airline', 'possible', '[SEP]', 'food', '[SEP]'], alignment=[[0], [1, 2], [3], [4], [5], [6], [7], [8], [9], [10], [11], [12], [13], [14], [15], [16, 17], [18], [19], [20], [21], [22], [23], [24], [25], [26], [27], [28], [29], [30], [31], [32], [33], [34], [35], [36], [37], [38], [39], [40], [41], [42], [43], [44, 45], [46, 47], [48], [49], [50], [51], [52], [53], [54], [55], [56], [57], [58], [59], [60], [61], [62], [63], [64], [65], [66], [67], [68], [69, 70], [71], [72], [73], [74], [75], [76], [77], [78, 79, 80], [81], [82], [83, 84, 85], [86], [87, 88], [89], [90], [91], [92], [93], [94], [95], [96], [97], [98], [99], [100, 101], [102], [103], [104], [105], [106], [107], [108], [109], [110], [111], [112]], scores=[0.0022452353, 0.9880703, 0.009684446], review=Review(is_reference=None, patterns=None))], sentiment=<Sentiment.negative: 1>, scores=[0.0022452353, 0.9880703, 0.009684446]))]))"
      ]
     },
     "execution_count": 119,
     "metadata": {},
     "output_type": "execute_result"
    }
   ],
   "source": [
    "senti"
   ]
  },
  {
   "cell_type": "code",
   "execution_count": null,
   "metadata": {},
   "outputs": [],
   "source": [
    "0.0022452353, 0.9880703, 0.009684446"
   ]
  },
  {
   "cell_type": "code",
   "execution_count": 126,
   "metadata": {},
   "outputs": [
    {
     "data": {
      "text/plain": [
       "1.0"
      ]
     },
     "execution_count": 126,
     "metadata": {},
     "output_type": "execute_result"
    }
   ],
   "source": [
    "0.011+0.988+0.001"
   ]
  },
  {
   "cell_type": "code",
   "execution_count": 127,
   "metadata": {},
   "outputs": [],
   "source": [
    "_ , k, d = reviews_absa(airlines_df,7)"
   ]
  },
  {
   "cell_type": "code",
   "execution_count": 128,
   "metadata": {},
   "outputs": [
    {
     "data": {
      "text/html": [
       "<div>\n",
       "<style scoped>\n",
       "    .dataframe tbody tr th:only-of-type {\n",
       "        vertical-align: middle;\n",
       "    }\n",
       "\n",
       "    .dataframe tbody tr th {\n",
       "        vertical-align: top;\n",
       "    }\n",
       "\n",
       "    .dataframe thead th {\n",
       "        text-align: right;\n",
       "    }\n",
       "</style>\n",
       "<table border=\"1\" class=\"dataframe\">\n",
       "  <thead>\n",
       "    <tr style=\"text-align: right;\">\n",
       "      <th></th>\n",
       "      <th>seat</th>\n",
       "      <th>cabin_staff_service</th>\n",
       "      <th>food</th>\n",
       "      <th>inflight_entertainment</th>\n",
       "      <th>ground_service</th>\n",
       "      <th>wifi</th>\n",
       "    </tr>\n",
       "  </thead>\n",
       "  <tbody>\n",
       "    <tr>\n",
       "      <th>0</th>\n",
       "      <td>NaN</td>\n",
       "      <td>NaN</td>\n",
       "      <td>NaN</td>\n",
       "      <td>NaN</td>\n",
       "      <td>NaN</td>\n",
       "      <td>NaN</td>\n",
       "    </tr>\n",
       "    <tr>\n",
       "      <th>1</th>\n",
       "      <td>NaN</td>\n",
       "      <td>Negative</td>\n",
       "      <td>Positive</td>\n",
       "      <td>Positive</td>\n",
       "      <td>NaN</td>\n",
       "      <td>NaN</td>\n",
       "    </tr>\n",
       "    <tr>\n",
       "      <th>2</th>\n",
       "      <td>NaN</td>\n",
       "      <td>Negative</td>\n",
       "      <td>NaN</td>\n",
       "      <td>NaN</td>\n",
       "      <td>NaN</td>\n",
       "      <td>NaN</td>\n",
       "    </tr>\n",
       "    <tr>\n",
       "      <th>3</th>\n",
       "      <td>Negative</td>\n",
       "      <td>Positive</td>\n",
       "      <td>Negative</td>\n",
       "      <td>Negative</td>\n",
       "      <td>NaN</td>\n",
       "      <td>Positive</td>\n",
       "    </tr>\n",
       "    <tr>\n",
       "      <th>4</th>\n",
       "      <td>Neutral</td>\n",
       "      <td>Negative</td>\n",
       "      <td>NaN</td>\n",
       "      <td>Negative</td>\n",
       "      <td>NaN</td>\n",
       "      <td>NaN</td>\n",
       "    </tr>\n",
       "    <tr>\n",
       "      <th>5</th>\n",
       "      <td>NaN</td>\n",
       "      <td>Positive</td>\n",
       "      <td>Negative</td>\n",
       "      <td>Negative</td>\n",
       "      <td>NaN</td>\n",
       "      <td>Positive</td>\n",
       "    </tr>\n",
       "    <tr>\n",
       "      <th>6</th>\n",
       "      <td>Neutral</td>\n",
       "      <td>Positive</td>\n",
       "      <td>Positive</td>\n",
       "      <td>NaN</td>\n",
       "      <td>NaN</td>\n",
       "      <td>NaN</td>\n",
       "    </tr>\n",
       "  </tbody>\n",
       "</table>\n",
       "</div>"
      ],
      "text/plain": [
       "       seat cabin_staff_service      food inflight_entertainment  \\\n",
       "0       NaN                 NaN       NaN                    NaN   \n",
       "1       NaN            Negative  Positive               Positive   \n",
       "2       NaN            Negative       NaN                    NaN   \n",
       "3  Negative            Positive  Negative               Negative   \n",
       "4   Neutral            Negative       NaN               Negative   \n",
       "5       NaN            Positive  Negative               Negative   \n",
       "6   Neutral            Positive  Positive                    NaN   \n",
       "\n",
       "   ground_service      wifi  \n",
       "0             NaN       NaN  \n",
       "1             NaN       NaN  \n",
       "2             NaN       NaN  \n",
       "3             NaN  Positive  \n",
       "4             NaN       NaN  \n",
       "5             NaN  Positive  \n",
       "6             NaN       NaN  "
      ]
     },
     "execution_count": 128,
     "metadata": {},
     "output_type": "execute_result"
    }
   ],
   "source": [
    "k"
   ]
  },
  {
   "cell_type": "code",
   "execution_count": 129,
   "metadata": {},
   "outputs": [
    {
     "data": {
      "text/html": [
       "<div>\n",
       "<style scoped>\n",
       "    .dataframe tbody tr th:only-of-type {\n",
       "        vertical-align: middle;\n",
       "    }\n",
       "\n",
       "    .dataframe tbody tr th {\n",
       "        vertical-align: top;\n",
       "    }\n",
       "\n",
       "    .dataframe thead th {\n",
       "        text-align: right;\n",
       "    }\n",
       "</style>\n",
       "<table border=\"1\" class=\"dataframe\">\n",
       "  <thead>\n",
       "    <tr style=\"text-align: right;\">\n",
       "      <th></th>\n",
       "      <th>seat_comfort</th>\n",
       "      <th>cabin_staff_service</th>\n",
       "      <th>food_&amp;_beverages</th>\n",
       "      <th>inflight_entertainment</th>\n",
       "      <th>ground_service</th>\n",
       "      <th>wifi_&amp;_connectivity</th>\n",
       "    </tr>\n",
       "  </thead>\n",
       "  <tbody>\n",
       "    <tr>\n",
       "      <th>835</th>\n",
       "      <td>Negative</td>\n",
       "      <td>Negative</td>\n",
       "      <td>Negative</td>\n",
       "      <td>NaN</td>\n",
       "      <td>Negative</td>\n",
       "      <td>NaN</td>\n",
       "    </tr>\n",
       "    <tr>\n",
       "      <th>1015</th>\n",
       "      <td>Positive</td>\n",
       "      <td>Positive</td>\n",
       "      <td>Positive</td>\n",
       "      <td>Positive</td>\n",
       "      <td>Positive</td>\n",
       "      <td>NaN</td>\n",
       "    </tr>\n",
       "    <tr>\n",
       "      <th>785</th>\n",
       "      <td>Negative</td>\n",
       "      <td>Negative</td>\n",
       "      <td>NaN</td>\n",
       "      <td>NaN</td>\n",
       "      <td>Negative</td>\n",
       "      <td>NaN</td>\n",
       "    </tr>\n",
       "    <tr>\n",
       "      <th>205</th>\n",
       "      <td>Negative</td>\n",
       "      <td>Positive</td>\n",
       "      <td>Negative</td>\n",
       "      <td>Negative</td>\n",
       "      <td>Negative</td>\n",
       "      <td>Negative</td>\n",
       "    </tr>\n",
       "    <tr>\n",
       "      <th>257</th>\n",
       "      <td>Neutral</td>\n",
       "      <td>Neutral</td>\n",
       "      <td>Negative</td>\n",
       "      <td>Negative</td>\n",
       "      <td>Negative</td>\n",
       "      <td>NaN</td>\n",
       "    </tr>\n",
       "    <tr>\n",
       "      <th>1143</th>\n",
       "      <td>Positive</td>\n",
       "      <td>Positive</td>\n",
       "      <td>Negative</td>\n",
       "      <td>Positive</td>\n",
       "      <td>Neutral</td>\n",
       "      <td>Negative</td>\n",
       "    </tr>\n",
       "    <tr>\n",
       "      <th>369</th>\n",
       "      <td>Positive</td>\n",
       "      <td>Positive</td>\n",
       "      <td>Neutral</td>\n",
       "      <td>Neutral</td>\n",
       "      <td>Neutral</td>\n",
       "      <td>NaN</td>\n",
       "    </tr>\n",
       "  </tbody>\n",
       "</table>\n",
       "</div>"
      ],
      "text/plain": [
       "     seat_comfort cabin_staff_service food_&_beverages inflight_entertainment  \\\n",
       "835      Negative            Negative         Negative                    NaN   \n",
       "1015     Positive            Positive         Positive               Positive   \n",
       "785      Negative            Negative              NaN                    NaN   \n",
       "205      Negative            Positive         Negative               Negative   \n",
       "257       Neutral             Neutral         Negative               Negative   \n",
       "1143     Positive            Positive         Negative               Positive   \n",
       "369      Positive            Positive          Neutral                Neutral   \n",
       "\n",
       "     ground_service wifi_&_connectivity  \n",
       "835        Negative                 NaN  \n",
       "1015       Positive                 NaN  \n",
       "785        Negative                 NaN  \n",
       "205        Negative            Negative  \n",
       "257        Negative                 NaN  \n",
       "1143        Neutral            Negative  \n",
       "369         Neutral                 NaN  "
      ]
     },
     "execution_count": 129,
     "metadata": {},
     "output_type": "execute_result"
    }
   ],
   "source": [
    "d"
   ]
  },
  {
   "cell_type": "code",
   "execution_count": null,
   "metadata": {},
   "outputs": [],
   "source": []
  }
 ],
 "metadata": {
  "kernelspec": {
   "display_name": "Python 3 (ipykernel)",
   "language": "python",
   "name": "python3"
  },
  "language_info": {
   "codemirror_mode": {
    "name": "ipython",
    "version": 3
   },
   "file_extension": ".py",
   "mimetype": "text/x-python",
   "name": "python",
   "nbconvert_exporter": "python",
   "pygments_lexer": "ipython3",
   "version": "3.9.7"
  }
 },
 "nbformat": 4,
 "nbformat_minor": 4
}
