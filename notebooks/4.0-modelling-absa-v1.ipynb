{
 "cells": [
  {
   "cell_type": "markdown",
   "metadata": {},
   "source": [
    "# African Airlines Sentiment Analysis (2015-Present)\n",
    "**Modelling & (Aspect Based) Sentiment Analysis V1**"
   ]
  },
  {
   "cell_type": "markdown",
   "metadata": {},
   "source": [
    "### 1. Library Importation"
   ]
  },
  {
   "cell_type": "markdown",
   "metadata": {},
   "source": [
    "**aspect-based-sentiment-analysis (ABSA)** package can be viewed [here](https://github.com/ScalaConsultants/Aspect-Based-Sentiment-Analysis)"
   ]
  },
  {
   "cell_type": "code",
   "execution_count": 277,
   "metadata": {},
   "outputs": [],
   "source": [
    "import pandas as pd\n",
    "import numpy as np\n",
    "import aspect_based_sentiment_analysis as absa"
   ]
  },
  {
   "cell_type": "markdown",
   "metadata": {},
   "source": [
    "### 2. Loading the data"
   ]
  },
  {
   "cell_type": "code",
   "execution_count": 278,
   "metadata": {},
   "outputs": [],
   "source": [
    "#Dataframe with review text cleaned and encoded sentiment values\n",
    "airlines_df = pd.read_csv('../data/processed/partial_encoding.csv',index_col=0)\n",
    "\n",
    "#Convert encoded rating sentiment values to int\n",
    "airlines_df.iloc[:,6:13] = airlines_df.iloc[:,6:13]"
   ]
  },
  {
   "cell_type": "code",
   "execution_count": 279,
   "metadata": {},
   "outputs": [
    {
     "data": {
      "text/html": [
       "<div>\n",
       "<style scoped>\n",
       "    .dataframe tbody tr th:only-of-type {\n",
       "        vertical-align: middle;\n",
       "    }\n",
       "\n",
       "    .dataframe tbody tr th {\n",
       "        vertical-align: top;\n",
       "    }\n",
       "\n",
       "    .dataframe thead th {\n",
       "        text-align: right;\n",
       "    }\n",
       "</style>\n",
       "<table border=\"1\" class=\"dataframe\">\n",
       "  <thead>\n",
       "    <tr style=\"text-align: right;\">\n",
       "      <th></th>\n",
       "      <th>Subject</th>\n",
       "      <th>date_published</th>\n",
       "      <th>review_text</th>\n",
       "      <th>type_of_traveller</th>\n",
       "      <th>seat_type</th>\n",
       "      <th>date_flown</th>\n",
       "      <th>seat_comfort</th>\n",
       "      <th>cabin_staff_service</th>\n",
       "      <th>food_&amp;_beverages</th>\n",
       "      <th>inflight_entertainment</th>\n",
       "      <th>ground_service</th>\n",
       "      <th>wifi_&amp;_connectivity</th>\n",
       "      <th>value_for_money</th>\n",
       "      <th>recommended</th>\n",
       "    </tr>\n",
       "  </thead>\n",
       "  <tbody>\n",
       "    <tr>\n",
       "      <th>0</th>\n",
       "      <td>ethiopian-airlines</td>\n",
       "      <td>2021-01-31 00:08:00</td>\n",
       "      <td>ive flown ethiopian airlines couple times gene...</td>\n",
       "      <td>Business</td>\n",
       "      <td>Economy Class</td>\n",
       "      <td>August 2021</td>\n",
       "      <td>0.0</td>\n",
       "      <td>0.0</td>\n",
       "      <td>0.0</td>\n",
       "      <td>0.0</td>\n",
       "      <td>0.0</td>\n",
       "      <td>0.0</td>\n",
       "      <td>0.0</td>\n",
       "      <td>0</td>\n",
       "    </tr>\n",
       "    <tr>\n",
       "      <th>1</th>\n",
       "      <td>ethiopian-airlines</td>\n",
       "      <td>2021-01-06 00:08:00</td>\n",
       "      <td>fantastic journey flew q turbo prop khartoum a...</td>\n",
       "      <td>Solo Leisure</td>\n",
       "      <td>Economy Class</td>\n",
       "      <td>July 2021</td>\n",
       "      <td>2.0</td>\n",
       "      <td>2.0</td>\n",
       "      <td>2.0</td>\n",
       "      <td>2.0</td>\n",
       "      <td>2.0</td>\n",
       "      <td>NaN</td>\n",
       "      <td>2.0</td>\n",
       "      <td>1</td>\n",
       "    </tr>\n",
       "    <tr>\n",
       "      <th>2</th>\n",
       "      <td>ethiopian-airlines</td>\n",
       "      <td>2021-01-29 00:07:00</td>\n",
       "      <td>children stuck transit ethiopia ethiopian airl...</td>\n",
       "      <td>Family Leisure</td>\n",
       "      <td>Economy Class</td>\n",
       "      <td>July 2021</td>\n",
       "      <td>0.0</td>\n",
       "      <td>0.0</td>\n",
       "      <td>0.0</td>\n",
       "      <td>0.0</td>\n",
       "      <td>0.0</td>\n",
       "      <td>0.0</td>\n",
       "      <td>0.0</td>\n",
       "      <td>0</td>\n",
       "    </tr>\n",
       "  </tbody>\n",
       "</table>\n",
       "</div>"
      ],
      "text/plain": [
       "              Subject       date_published  \\\n",
       "0  ethiopian-airlines  2021-01-31 00:08:00   \n",
       "1  ethiopian-airlines  2021-01-06 00:08:00   \n",
       "2  ethiopian-airlines  2021-01-29 00:07:00   \n",
       "\n",
       "                                         review_text type_of_traveller  \\\n",
       "0  ive flown ethiopian airlines couple times gene...          Business   \n",
       "1  fantastic journey flew q turbo prop khartoum a...      Solo Leisure   \n",
       "2  children stuck transit ethiopia ethiopian airl...    Family Leisure   \n",
       "\n",
       "       seat_type   date_flown  seat_comfort  cabin_staff_service  \\\n",
       "0  Economy Class  August 2021           0.0                  0.0   \n",
       "1  Economy Class    July 2021           2.0                  2.0   \n",
       "2  Economy Class    July 2021           0.0                  0.0   \n",
       "\n",
       "   food_&_beverages  inflight_entertainment  ground_service  \\\n",
       "0               0.0                     0.0             0.0   \n",
       "1               2.0                     2.0             2.0   \n",
       "2               0.0                     0.0             0.0   \n",
       "\n",
       "   wifi_&_connectivity  value_for_money  recommended  \n",
       "0                  0.0              0.0            0  \n",
       "1                  NaN              2.0            1  \n",
       "2                  0.0              0.0            0  "
      ]
     },
     "execution_count": 279,
     "metadata": {},
     "output_type": "execute_result"
    }
   ],
   "source": [
    "airlines_df.head(3)"
   ]
  },
  {
   "cell_type": "markdown",
   "metadata": {},
   "source": [
    "### 3. Quick ABSA"
   ]
  },
  {
   "cell_type": "code",
   "execution_count": 280,
   "metadata": {},
   "outputs": [
    {
     "name": "stderr",
     "output_type": "stream",
     "text": [
      "Some layers from the model checkpoint at absa/classifier-rest-0.2 were not used when initializing BertABSClassifier: ['dropout_379']\n",
      "- This IS expected if you are initializing BertABSClassifier from the checkpoint of a model trained on another task or with another architecture (e.g. initializing a BertForSequenceClassification model from a BertForPreTraining model).\n",
      "- This IS NOT expected if you are initializing BertABSClassifier from the checkpoint of a model that you expect to be exactly identical (initializing a BertForSequenceClassification model from a BertForSequenceClassification model).\n",
      "Some layers of BertABSClassifier were not initialized from the model checkpoint at absa/classifier-rest-0.2 and are newly initialized: ['dropout_189']\n",
      "You should probably TRAIN this model on a down-stream task to be able to use it for predictions and inference.\n"
     ]
    }
   ],
   "source": [
    "nlp = absa.load()"
   ]
  },
  {
   "cell_type": "code",
   "execution_count": 281,
   "metadata": {},
   "outputs": [],
   "source": [
    "#Note down the possible aspect classes\n",
    "aspect_classes = {'seat':['seat'], 'cabin_staff_service': ['crew', 'service', 'staff', 'attendant'], \n",
    "                  'food': ['food','meal'],\n",
    "                  'inflight_entertainment': ['entertainment','movies','shows'], \n",
    "                  'ground_service': ['ground service'], 'wifi': ['wifi']}"
   ]
  },
  {
   "cell_type": "code",
   "execution_count": 282,
   "metadata": {},
   "outputs": [],
   "source": [
    "def reviews_absa(df,sample_num = None):\n",
    "    \n",
    "    #Dataframe to store the eventual sentiment for different aspects\n",
    "    sentiment_df = pd.DataFrame()\n",
    "    \n",
    "    #Generate random number which will serve as selections for review texts\n",
    "    rand_idx = np.random.randint(0,len(df),sample_num)\n",
    "\n",
    "    #Iterate through all the aspects\n",
    "    for aspect_class in aspect_classes.keys():\n",
    "\n",
    "        #print('aspect class', aspect_class,'\\n')\n",
    "\n",
    "        #List to store the aspect sentiment for each review for a given aspect\n",
    "        review_aspect_sentiment = []\n",
    "\n",
    "        #Iterate through all the reviews\n",
    "        for review in df.review_text.iloc[rand_idx]:\n",
    "\n",
    "            #print('review:',review,'\\n')\n",
    "\n",
    "            #List to store the avg sentiment for all relevant aspect terms\n",
    "            term_sentiments = []\n",
    "\n",
    "            #Iterate through all the aspect terms for an aspect\n",
    "            for aspect_term in aspect_classes[aspect_class]:\n",
    "\n",
    "                #print('aspect_term:',aspect_term,'\\n')\n",
    "\n",
    "                #If the term is in the review\n",
    "                if aspect_term in review:\n",
    "\n",
    "                    try:\n",
    "                        #Calculate the aspect sentiment\n",
    "                        sent = nlp(review,aspects = [aspect_term])\n",
    "\n",
    "                        #Append the sentiment score to the sentiment scores list\n",
    "                        term_sentiments.append(np.array(sent.subtasks[aspect_term].examples[0].scores))\n",
    "\n",
    "                    except:\n",
    "\n",
    "                        pass\n",
    "\n",
    "\n",
    "                #If the term is not in the review, pass\n",
    "                else:\n",
    "                    pass\n",
    "\n",
    "            #If there were multiple aspect terms, find the average sentiment values across all terms\n",
    "            #Note: This is reported in the form [neutral,negative,positive]\n",
    "            if len(term_sentiments) > 1:\n",
    "\n",
    "                avg_sentiments = np.array(term_sentiments).mean(axis=0)\n",
    "\n",
    "            #If just one, no need to find the average\n",
    "            elif len(term_sentiments) == 1:\n",
    "\n",
    "                avg_sentiments = np.array(term_sentiments)\n",
    "\n",
    "            #If len == 0, no review with the aspect terms was found\n",
    "            else:\n",
    "                avg_sentiments = None\n",
    "\n",
    "            #If avg_sentiment is None, append np.nan indicating no sentiment for the aspect\n",
    "            if avg_sentiments is None:\n",
    "\n",
    "                review_aspect_sentiment.append(np.nan)\n",
    "\n",
    "            else:\n",
    "\n",
    "                #Get the sentiment category (neutral,negative,positive) with the largest probability\n",
    "                max_idx = np.argmax(avg_sentiments)\n",
    "\n",
    "                if max_idx == 2:\n",
    "\n",
    "                    review_aspect_sentiment.append(2)\n",
    "\n",
    "                elif max_idx == 1:\n",
    "\n",
    "                    review_aspect_sentiment.append(0)\n",
    "\n",
    "                else:\n",
    "\n",
    "                    review_aspect_sentiment.append(1)\n",
    "\n",
    "\n",
    "            #print(review_aspect_sentiment, '\\n\\n')\n",
    "\n",
    "        sentiment_df[aspect_class] = review_aspect_sentiment\n",
    "        \n",
    "    return rand_idx, sentiment_df, df.iloc[rand_idx,6:12]\n"
   ]
  },
  {
   "cell_type": "code",
   "execution_count": 283,
   "metadata": {},
   "outputs": [],
   "source": [
    "def replace_nan_with_str(df,true_df):\n",
    "\n",
    "    #Iterate through all the values in the sentiment dataframe\n",
    "    for row in range(len(df)):\n",
    "\n",
    "        for col in range(len(df.columns)):\n",
    "\n",
    "            #If there was no sentiment prediction from the model (i.e. if np.nan)\n",
    "            if df.iloc[row,col] not in [*range(3)]:\n",
    "\n",
    "                #Replace the nan prediction with a string (since np.nans cannot be compared with each other)\n",
    "                df.iloc[row,col] = str(df.iloc[row,col])\n",
    "\n",
    "                #Replace the review sentiment with a None - allowing us compare all available prediction \n",
    "                #to actual reported values\n",
    "                true_df.iloc[row,col] = str(np.nan)\n",
    "              \n",
    "    \n",
    "    return df,true_df"
   ]
  },
  {
   "cell_type": "code",
   "execution_count": 284,
   "metadata": {},
   "outputs": [],
   "source": [
    "def absa_evaluation(true_df,num_reviews):\n",
    "    \n",
    "    #Run aspect based sentiment analysis on num_reviews randomly selected reviews\n",
    "    _ , sentiment_df, reviews_ratings = reviews_absa(true_df,num_reviews)\n",
    "    \n",
    "    #Reprocess in preparation for prediction comparison\n",
    "    #Here we reformat so only aspects that the model detected and predicted are evaluated\n",
    "    sentiment_df, reviews_ratings = replace_nan_with_str(sentiment_df, reviews_ratings)\n",
    "    \n",
    "    #Calculate the number of predictions\n",
    "    num_preds = np.array([1 for pred in sentiment_df.values.flatten() if pred != 'nan']).sum()\n",
    "    \n",
    "    #Compare predictions to user reported sentiment values \n",
    "    comparison_vals = (sentiment_df.values == reviews_ratings.values).flatten()\n",
    "\n",
    "    #Compute and return the number of predictions and the accuracy\n",
    "    return num_preds, (comparison_vals.sum()/len(comparison_vals))\n",
    "    "
   ]
  },
  {
   "cell_type": "code",
   "execution_count": 285,
   "metadata": {},
   "outputs": [
    {
     "name": "stdout",
     "output_type": "stream",
     "text": [
      "Total number of predictions: 504\n",
      "Average accuracy: 0.8726666666666667\n"
     ]
    }
   ],
   "source": [
    "#List to store accuracy values\n",
    "accuracy_values = []\n",
    "\n",
    "#Counter to track total number of (effective) model predictions\n",
    "num_predictions = 0\n",
    "\n",
    "#Repeat absa evaluation for 5 runs (corresponding to 250 reviews)\n",
    "for _ in range(5):\n",
    "    \n",
    "    num_pred, accuracy = absa_evaluation(airlines_df,50)\n",
    "    \n",
    "    num_predictions += num_pred\n",
    "    \n",
    "    accuracy_values.append(accuracy)\n",
    "    \n",
    "print(f\"Total number of predictions: {num_predictions}\")\n",
    "print(f\"Average accuracy: {np.array(accuracy_values).mean()}\")\n"
   ]
  },
  {
   "cell_type": "markdown",
   "metadata": {},
   "source": [
    "### How well does the current model detect referenced aspects in reviews?"
   ]
  },
  {
   "cell_type": "code",
   "execution_count": 248,
   "metadata": {},
   "outputs": [
    {
     "name": "stdout",
     "output_type": "stream",
     "text": [
      "Text 1 :\n",
      "i bought a ticket madrid to cairo. i requested a refund due to not being able to travel in march 2020. my ticket allowed a refund with a small penalty. 9 months have passed and i still have not received my refund. i have written many times to customer service. but they just say they will forward the problem to another department. i have called the assistance phone number, but they only put a recording in arabic. \n",
      "\n",
      "-  seat :  nan\n",
      "-  cabin_staff_service :  Negative\n",
      "-  food :  nan\n",
      "-  inflight_entertainment :  nan\n",
      "-  ground_service :  nan\n",
      "-  wifi :  nan\n",
      "\n",
      "\n",
      "Text 2 :\n",
      "livingstone to johannesburg. my 40th flight on saa in the last 15 months or so, and i must say this was the best crew i’ve had to date. flawless service, engaging purser, the captain even made his announcement in german as there were germans on board. saa has challenges, but once up in the air, their service is consistently good, and a positive attitude from all the crew. \n",
      "\n",
      "-  seat :  nan\n",
      "-  cabin_staff_service :  Positive\n",
      "-  food :  nan\n",
      "-  inflight_entertainment :  nan\n",
      "-  ground_service :  nan\n",
      "-  wifi :  nan\n",
      "\n",
      "\n",
      "Text 3 :\n",
      "johannesburg to durban. i have always preferred using south african airways for flights within south africa but this flight has been very disappointing. i was traveling with my 5 year old daughter alone and coming after a night with very little sleep and a day of continuous flying a flight on time would have been much appreciated, but that was not to be we stood in line at the embarkation gate for over half an hour with no explanation on the delay and no estimated time of departure. my little one needed to go toilet and i tried to get any information on the tine without an answer so i had to get her out of line and take her to toilet losing or spot and ending up at the back of the line. when we board i find out that we had been seated separately and not one of the flight attendants tried to explain to passengers to help us sit together the little girl was crying quietly seated next to a strange woman. i will think twice about flying on this airline again. \n",
      "\n",
      "-  seat :  Negative\n",
      "-  cabin_staff_service :  nan\n",
      "-  food :  nan\n",
      "-  inflight_entertainment :  Negative\n",
      "-  ground_service :  nan\n",
      "-  wifi :  nan\n",
      "\n",
      "\n",
      "Text 4 :\n",
      "was highly impressed with my first in-flight experience with royal air maroc. impressed with the meals served, the hospitality and the in-flight entertainment and superb shape of their high-tech boeing 787 i traveled with during my transit from morocco to new york, jfk. \n",
      "\n",
      "-  seat :  nan\n",
      "-  cabin_staff_service :  nan\n",
      "-  food :  Positive\n",
      "-  inflight_entertainment :  Positive\n",
      "-  ground_service :  nan\n",
      "-  wifi :  nan\n",
      "\n",
      "\n",
      "Text 5 :\n",
      "madrid to casablanca. excellent experience; this was my first time flying royal air maroc, and i am very pleased with them.  the aircraft arrived to the gate on time, and we boarded and departed on time. the seats were clean and comfortable. one of the things that very pleasantly surprised me is that, despite the fact that this flight is barely 1.5 hours, the flight attendants served a delicious, hot meal, complete with beverages. you'll never get anything more than peanuts or pretzels on a domestic flight in america, so imagine my surprise! the flight attendants were polite, friendly, and courteous. the in-flight entertainment was displayed on drop-down screens (old school charlie chaplin, so it was family friendly), but i wasn't going to complain about the lack of entertainment options on this short of a flight. you can also access wifi on your phone, so there are definitely some options. the plane ride was smooth, and there were no issues with debarking and picking up my luggage. overall, i am very pleased with my experience, and highly recommend my family, friends, and others to fly with royal air maroc. i will definitely be flying with them in the near future. \n",
      "\n",
      "-  seat :  Positive\n",
      "-  cabin_staff_service :  nan\n",
      "-  food :  Positive\n",
      "-  inflight_entertainment :  Positive\n",
      "-  ground_service :  nan\n",
      "-  wifi :  Positive\n",
      "\n",
      "\n"
     ]
    }
   ],
   "source": [
    "#Load the original data so we can see the original review texts (with no text processing)\n",
    "original_df = pd.read_csv('../data/interim/airlines_categorical.csv',index_col=0)\n",
    "\n",
    "#Run the ABSA to get the aspects and the model prediction for the deduced aspects\n",
    "rand_idx, sentiment_df, reviews_ratings = reviews_absa(airlines_df,5)\n",
    "\n",
    "#Replace the aspect predictions which are currently integers with interpretable text\n",
    "sentiment_df.replace({0.0:'Negative', 1.0:'Neutral', 2.0: 'Positive'},inplace=True)\n",
    "\n",
    "#Print the text, the aspects and the models prediction for the aspects\n",
    "for idx,value in enumerate(rand_idx):\n",
    "    \n",
    "    print('Text', idx+1,':')\n",
    "    print(original_df.iloc[value,2], '\\n')\n",
    "    \n",
    "    for attr, pred in zip(sentiment_df.iloc[idx].index,sentiment_df.iloc[idx].values):\n",
    "        print('- ',attr,': ',pred)\n",
    "        \n",
    "    print('\\n')\n",
    "    \n",
    "    "
   ]
  },
  {
   "cell_type": "markdown",
   "metadata": {},
   "source": [
    "Seems to do a pretty good job detecting existing aspects in the text. However, it's difficult to differentiate between ground staff and cabin crew staff with the current approach."
   ]
  },
  {
   "cell_type": "markdown",
   "metadata": {},
   "source": [
    "### Breaking down and visualizing the model's classifications"
   ]
  },
  {
   "cell_type": "code",
   "execution_count": 296,
   "metadata": {},
   "outputs": [],
   "source": [
    "from sklearn.metrics import confusion_matrix, ConfusionMatrixDisplay"
   ]
  },
  {
   "cell_type": "code",
   "execution_count": 333,
   "metadata": {},
   "outputs": [],
   "source": [
    "#Run aspect based sentiment analysis on num_reviews randomly selected reviews\n",
    "_ , sentiment_df, reviews_ratings = reviews_absa(airlines_df,100)\n",
    "\n",
    "#Reprocess in preparation for prediction comparison\n",
    "#Here we reformat so only aspects that the model detected and predicted are evaluated\n",
    "sentiment_df, reviews_ratings = replace_nan_with_str(sentiment_df, reviews_ratings)"
   ]
  },
  {
   "cell_type": "code",
   "execution_count": 367,
   "metadata": {},
   "outputs": [],
   "source": [
    "#Replace missing true ratings with -1 to allow for confusion matrix plotting\n",
    "reviews_replaced = reviews_ratings.replace(np.nan,3)"
   ]
  },
  {
   "cell_type": "code",
   "execution_count": 368,
   "metadata": {},
   "outputs": [],
   "source": [
    "attr_preds = np.delete(sentiment_df.values.flatten(),\n",
    "                       np.where(sentiment_df.values.flatten() == 'nan'))\n",
    "true_ratings = np.delete(reviews_replaced.values.flatten(),\n",
    "                         np.where(reviews_replaced.values.flatten() == 'nan'))"
   ]
  },
  {
   "cell_type": "code",
   "execution_count": 375,
   "metadata": {},
   "outputs": [],
   "source": [
    "cm = confusion_matrix(true_ratings.astype('int'), attr_preds.astype('int'))\n",
    "disp = ConfusionMatrixDisplay(confusion_matrix=cm, \n",
    "                              display_labels=[\"Negative\", \"Neutral\", \"Positive\", \"None\"])"
   ]
  },
  {
   "cell_type": "code",
   "execution_count": 376,
   "metadata": {},
   "outputs": [
    {
     "data": {
      "image/png": "[encoded data removed]",
      "text/plain": [
       "<Figure size 432x288 with 2 Axes>"
      ]
     },
     "metadata": {
      "needs_background": "light"
     },
     "output_type": "display_data"
    }
   ],
   "source": [
    "disp.plot()\n",
    "plt.show()"
   ]
  },
  {
   "cell_type": "markdown",
   "metadata": {},
   "source": [
    "Does quite poorly predicting Neutral sentiment"
   ]
  }
 ],
 "metadata": {
  "kernelspec": {
   "display_name": "Python 3",
   "language": "python",
   "name": "python3"
  },
  "language_info": {
   "codemirror_mode": {
    "name": "ipython",
    "version": 3
   },
   "file_extension": ".py",
   "mimetype": "text/x-python",
   "name": "python",
   "nbconvert_exporter": "python",
   "pygments_lexer": "ipython3",
   "version": "3.7.6"
  }
 },
 "nbformat": 4,
 "nbformat_minor": 4
}
